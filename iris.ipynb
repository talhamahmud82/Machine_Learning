{
  "nbformat": 4,
  "nbformat_minor": 0,
  "metadata": {
    "colab": {
      "provenance": [],
      "authorship_tag": "ABX9TyO14SGvfaxrP74B3kQsEbRM",
      "include_colab_link": true
    },
    "kernelspec": {
      "name": "python3",
      "display_name": "Python 3"
    },
    "language_info": {
      "name": "python"
    }
  },
  "cells": [
    {
      "cell_type": "markdown",
      "metadata": {
        "id": "view-in-github",
        "colab_type": "text"
      },
      "source": [
        "<a href=\"https://colab.research.google.com/github/talhamahmud82/Machine_Learning/blob/main/iris.ipynb\" target=\"_parent\"><img src=\"https://colab.research.google.com/assets/colab-badge.svg\" alt=\"Open In Colab\"/></a>"
      ]
    },
    {
      "cell_type": "code",
      "execution_count": 2,
      "metadata": {
        "colab": {
          "base_uri": "https://localhost:8080/"
        },
        "id": "o3Z6Fg1hz4VU",
        "outputId": "d6507469-c096-43ae-b3c0-98ca5e01c3cd"
      },
      "outputs": [
        {
          "output_type": "stream",
          "name": "stdout",
          "text": [
            "   sepal length (cm)  sepal width (cm)  petal length (cm)  petal width (cm)  \\\n",
            "0                5.1               3.5                1.4               0.2   \n",
            "1                4.9               3.0                1.4               0.2   \n",
            "2                4.7               3.2                1.3               0.2   \n",
            "3                4.6               3.1                1.5               0.2   \n",
            "4                5.0               3.6                1.4               0.2   \n",
            "\n",
            "   species species_names  \n",
            "0        0        setosa  \n",
            "1        0        setosa  \n",
            "2        0        setosa  \n",
            "3        0        setosa  \n",
            "4        0        setosa  \n"
          ]
        }
      ],
      "source": [
        "from sklearn.datasets import load_iris\n",
        "import pandas as pd\n",
        "\n",
        "iris = load_iris()\n",
        "\n",
        "iris_df = pd.DataFrame(data=iris.data, columns=iris.feature_names)\n",
        "iris_df['species'] = iris.target\n",
        "iris_df['species_names'] = iris.target_names[iris.target]\n",
        "\n",
        "print(iris_df.head())\n"
      ]
    },
    {
      "cell_type": "code",
      "source": [
        "print(iris_df.isnull().sum())\n",
        "\n",
        "print(\"Duplicate rows:\", iris_df.duplicated().sum())\n",
        "\n",
        "iris_df = iris_df.drop_duplicates()\n",
        "\n",
        "print(iris_df.info())\n"
      ],
      "metadata": {
        "colab": {
          "base_uri": "https://localhost:8080/"
        },
        "id": "6WuBgR_z0GKm",
        "outputId": "1e91d932-fc05-49d7-ed39-dbb276b8f81d"
      },
      "execution_count": 3,
      "outputs": [
        {
          "output_type": "stream",
          "name": "stdout",
          "text": [
            "sepal length (cm)    0\n",
            "sepal width (cm)     0\n",
            "petal length (cm)    0\n",
            "petal width (cm)     0\n",
            "species              0\n",
            "species_names        0\n",
            "dtype: int64\n",
            "Duplicate rows: 1\n",
            "<class 'pandas.core.frame.DataFrame'>\n",
            "Index: 149 entries, 0 to 149\n",
            "Data columns (total 6 columns):\n",
            " #   Column             Non-Null Count  Dtype  \n",
            "---  ------             --------------  -----  \n",
            " 0   sepal length (cm)  149 non-null    float64\n",
            " 1   sepal width (cm)   149 non-null    float64\n",
            " 2   petal length (cm)  149 non-null    float64\n",
            " 3   petal width (cm)   149 non-null    float64\n",
            " 4   species            149 non-null    int64  \n",
            " 5   species_names      149 non-null    object \n",
            "dtypes: float64(4), int64(1), object(1)\n",
            "memory usage: 8.1+ KB\n",
            "None\n"
          ]
        }
      ]
    },
    {
      "cell_type": "code",
      "source": [
        "from sklearn.preprocessing import StandardScaler\n",
        "\n",
        "X = iris_df.drop(['species', 'species_names'], axis=1)\n",
        "\n",
        "y = iris_df['species']   # numeric already (0,1,2)\n",
        "\n",
        "scaler = StandardScaler()\n",
        "X_scaled = scaler.fit_transform(X)\n",
        "\n",
        "X_scaled_df = pd.DataFrame(X_scaled, columns=X.columns)\n",
        "print(X_scaled_df.head())\n"
      ],
      "metadata": {
        "colab": {
          "base_uri": "https://localhost:8080/"
        },
        "id": "wbDsaiuv0SMQ",
        "outputId": "b57864bf-8fac-4d7d-f3ab-68fd4f16ed46"
      },
      "execution_count": 4,
      "outputs": [
        {
          "output_type": "stream",
          "name": "stdout",
          "text": [
            "   sepal length (cm)  sepal width (cm)  petal length (cm)  petal width (cm)\n",
            "0          -0.898033          1.012401          -1.333255         -1.308624\n",
            "1          -1.139562         -0.137353          -1.333255         -1.308624\n",
            "2          -1.381091          0.322549          -1.390014         -1.308624\n",
            "3          -1.501855          0.092598          -1.276496         -1.308624\n",
            "4          -1.018798          1.242352          -1.333255         -1.308624\n"
          ]
        }
      ]
    },
    {
      "cell_type": "code",
      "source": [
        "from sklearn.model_selection import train_test_split\n",
        "\n",
        "X_train, X_test, y_train, y_test = train_test_split(\n",
        "    X_scaled_df, y, test_size=0.2, random_state=42\n",
        ")\n",
        "\n",
        "print(\"Training data shape:\", X_train.shape)\n",
        "print(\"Testing data shape:\", X_test.shape)\n"
      ],
      "metadata": {
        "colab": {
          "base_uri": "https://localhost:8080/"
        },
        "id": "tAU520Ls0ZD1",
        "outputId": "25ad199a-85f1-456f-b2a1-22e4973a49ee"
      },
      "execution_count": 5,
      "outputs": [
        {
          "output_type": "stream",
          "name": "stdout",
          "text": [
            "Training data shape: (119, 4)\n",
            "Testing data shape: (30, 4)\n"
          ]
        }
      ]
    }
  ]
}